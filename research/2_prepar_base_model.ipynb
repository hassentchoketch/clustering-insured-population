{
 "cells": [
  {
   "cell_type": "code",
   "execution_count": 1,
   "id": "0733e8aa",
   "metadata": {},
   "outputs": [],
   "source": [
    "import os "
   ]
  },
  {
   "cell_type": "code",
   "execution_count": 2,
   "id": "9e5599e4",
   "metadata": {},
   "outputs": [
    {
     "data": {
      "text/plain": [
       "'c:\\\\Users\\\\tchok\\\\OneDrive\\\\Bureau\\\\My_github\\\\clustering-insured-population'"
      ]
     },
     "execution_count": 2,
     "metadata": {},
     "output_type": "execute_result"
    }
   ],
   "source": [
    "%pwd\n",
    "os.chdir('../')\n",
    "%pwd"
   ]
  },
  {
   "cell_type": "code",
   "execution_count": 3,
   "id": "975b4f6e",
   "metadata": {},
   "outputs": [],
   "source": [
    "from dataclasses import dataclass\n",
    "from pathlib import Path\n",
    "\n",
    "@dataclass\n",
    "class PreparBaseModelConfig:\n",
    "    \"\"\"\n",
    "    Base class for all model configurations.\n",
    "    \"\"\"\n",
    "    root_dir : Path \n",
    "    base_model_path : Path\n",
    "    params_n_clusters : int"
   ]
  },
  {
   "cell_type": "code",
   "execution_count": 4,
   "id": "ba0456af",
   "metadata": {},
   "outputs": [],
   "source": [
    "from insuredSegmenter.constants import *\n",
    "from insuredSegmenter.utils.common import read_yaml,create_directories\n",
    "\n",
    "class ConfigurationManager:\n",
    "    def __init__(\n",
    "        self,\n",
    "        config_filepath: Path = CONFIG_FILE_PATH,\n",
    "        params_filepath: Path = PARAMS_FILE_PATH\n",
    "        ):\n",
    "\n",
    "        self.config = read_yaml(str(config_filepath))\n",
    "        self.params = read_yaml(str(params_filepath))\n",
    "\n",
    "        create_directories([self.config.artifacts_root])\n",
    "    \n",
    "    def get_base_model_config(self) -> PreparBaseModelConfig:\n",
    "        config = self.config.prepare_base_model\n",
    "        \n",
    "        create_directories([config.root_dir])\n",
    "        \n",
    "        prepare_base_model_config = PreparBaseModelConfig( \n",
    "              root_dir = Path(config.root_dir),\n",
    "              base_model_path = Path(config.base_model_path),\n",
    "              params_n_clusters = int(self.params.Kmeans.n_clusters),\n",
    "              \n",
    "        )\n",
    "        return prepare_base_model_config  "
   ]
  },
  {
   "cell_type": "code",
   "execution_count": 5,
   "id": "2f4c877c",
   "metadata": {},
   "outputs": [],
   "source": [
    "from sklearn.cluster import KMeans\n",
    "import joblib\n",
    "from typing import Any\n",
    "import os \n",
    "from insuredSegmenter import logger"
   ]
  },
  {
   "cell_type": "code",
   "execution_count": null,
   "id": "53830205",
   "metadata": {},
   "outputs": [],
   "source": [
    "\n",
    "class PreparBaseModel:\n",
    "    def __init__(self, config: PreparBaseModelConfig):\n",
    "        self.config = config\n",
    "        self.model = None\n",
    "    \n",
    "    def get_base_model(self) -> KMeans:\n",
    "        \"\"\"\n",
    "        Create and save a KMeans base model based on configuration.\n",
    "        \n",
    "        Returns:\n",
    "            KMeans: Initialized KMeans model\n",
    "        \"\"\"\n",
    "        self.model = KMeans(\n",
    "            n_clusters=self.config.params_n_clusters,\n",
    "            random_state=42,\n",
    "            # Add other necessary KMeans parameters here\n",
    "        )\n",
    "        \n",
    "        # Save the model\n",
    "        self.save_base_model()\n",
    "        return self.model\n",
    "    \n",
    "    def load_base_model(self) -> Any:\n",
    "        \"\"\"\n",
    "        Load a pre-saved base model from the specified path.\n",
    "        \n",
    "        Returns:\n",
    "            Any: Loaded model\n",
    "        \"\"\"\n",
    "        try:\n",
    "            logger.info(f\"Loading base model from {self.config.base_model_path}\")\n",
    "            self.model = joblib.load(str(self.config.base_model_path))\n",
    "            logger.info(\"Base model loaded successfully\")\n",
    "            return self.model\n",
    "        except FileNotFoundError as e:\n",
    "            logger.error(f\"Model file not found: {e}\")\n",
    "            raise\n",
    "    \n",
    "    def save_base_model(self) -> None:\n",
    "        \"\"\"\n",
    "        Save the current model to the specified path.\n",
    "        \"\"\"\n",
    "        if self.model is None:\n",
    "            raise ValueError(\"No model to save. Call get_base_model() first.\")\n",
    "        \n",
    "        if not self.config.base_model_path:\n",
    "            \n",
    "            raise ValueError(\"Base model path is not specified\")\n",
    "        \n",
    "        try:\n",
    "            logger.info(f\"Saving base model to {self.config.base_model_path}\"),\n",
    "            joblib.dump(self.model, str(self.config.base_model_path)),\n",
    "            logger.info(f\"Base model saved successfully to {self.config.base_model_path}\"),\n",
    "        except Exception as e:\n",
    "            logger.exception(f\"Error saving base model to {self.config.base_model_path}: {e}\"),\n",
    "            raise"
   ]
  },
  {
   "cell_type": "markdown",
   "id": "1f7d1183",
   "metadata": {},
   "source": []
  },
  {
   "cell_type": "code",
   "execution_count": 7,
   "id": "eedb08d1",
   "metadata": {},
   "outputs": [
    {
     "name": "stdout",
     "output_type": "stream",
     "text": [
      "[2025-05-12 19:17:39,198: INFO: common: YAML file loaded successfully: C:\\Users\\tchok\\OneDrive\\Bureau\\My_github\\clustering-insured-population\\config\\config.yaml]\n",
      "[2025-05-12 19:17:39,214: INFO: common: YAML file loaded successfully: C:\\Users\\tchok\\OneDrive\\Bureau\\My_github\\clustering-insured-population\\params.yaml]\n",
      "[2025-05-12 19:17:39,220: INFO: common: created directory at: artifacts]\n",
      "[2025-05-12 19:17:39,226: INFO: common: created directory at: artifacts/prepare_base_model]\n",
      "artifacts\\prepare_base_model\\base_model.pkl\n",
      "[2025-05-12 19:17:39,230: INFO: 3839695428: Saving base model to artifacts\\prepare_base_model\\base_model.pkl]\n",
      "[2025-05-12 19:17:39,234: INFO: 3839695428: Base model saved successfully to artifacts\\prepare_base_model\\base_model.pkl]\n"
     ]
    }
   ],
   "source": [
    "try : \n",
    "    config = ConfigurationManager()\n",
    "    base_model_config = config.get_base_model_config()\n",
    "    base_model = PreparBaseModel(config=base_model_config)\n",
    "    base_model.get_base_model()\n",
    "except Exception as e:\n",
    "    raise e\n"
   ]
  }
 ],
 "metadata": {
  "kernelspec": {
   "display_name": "Python 3",
   "language": "python",
   "name": "python3"
  },
  "language_info": {
   "codemirror_mode": {
    "name": "ipython",
    "version": 3
   },
   "file_extension": ".py",
   "mimetype": "text/x-python",
   "name": "python",
   "nbconvert_exporter": "python",
   "pygments_lexer": "ipython3",
   "version": "3.10.16"
  }
 },
 "nbformat": 4,
 "nbformat_minor": 5
}
