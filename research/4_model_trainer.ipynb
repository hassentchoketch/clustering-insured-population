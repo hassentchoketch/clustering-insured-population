{
 "cells": [
  {
   "cell_type": "code",
   "execution_count": 1,
   "id": "48163503",
   "metadata": {},
   "outputs": [],
   "source": [
    "import os "
   ]
  },
  {
   "cell_type": "code",
   "execution_count": 2,
   "id": "6aa1aef3",
   "metadata": {},
   "outputs": [
    {
     "data": {
      "text/plain": [
       "'c:\\\\Users\\\\tchok\\\\OneDrive\\\\Bureau\\\\My_github\\\\clustering-insured-population\\\\research'"
      ]
     },
     "execution_count": 2,
     "metadata": {},
     "output_type": "execute_result"
    }
   ],
   "source": [
    "%pwd"
   ]
  },
  {
   "cell_type": "code",
   "execution_count": 3,
   "id": "535c5c51",
   "metadata": {},
   "outputs": [
    {
     "data": {
      "text/plain": [
       "'c:\\\\Users\\\\tchok\\\\OneDrive\\\\Bureau\\\\My_github\\\\clustering-insured-population'"
      ]
     },
     "execution_count": 3,
     "metadata": {},
     "output_type": "execute_result"
    }
   ],
   "source": [
    "os.chdir(\"../\"\n",
    "        )\n",
    "os.getcwd()"
   ]
  },
  {
   "cell_type": "code",
   "execution_count": 4,
   "id": "652f8509",
   "metadata": {},
   "outputs": [],
   "source": [
    "from dataclasses import dataclass\n",
    "from pathlib import Path"
   ]
  },
  {
   "cell_type": "code",
   "execution_count": 5,
   "id": "0b108e74",
   "metadata": {},
   "outputs": [],
   "source": [
    "@dataclass(frozen=True) # frozen=True makes the dataclass immutable\n",
    "class TrainingConfig:\n",
    "    root_dir: Path\n",
    "    trained_model_path: Path\n",
    "    base_model_path: Path\n",
    "    training_data_path: Path\n",
    "    param_n_clusters: int"
   ]
  },
  {
   "cell_type": "code",
   "execution_count": 6,
   "id": "39a3b816",
   "metadata": {},
   "outputs": [],
   "source": [
    "from insuredSegmenter.constants import * \n",
    "from insuredSegmenter.utils.common import read_yaml, create_directories\n",
    "from sklearn.cluster import KMeans "
   ]
  },
  {
   "cell_type": "code",
   "execution_count": 7,
   "id": "abb79964",
   "metadata": {},
   "outputs": [],
   "source": [
    "class ConfigurationManager:\n",
    "    def __init__(\n",
    "        self, \n",
    "        config_path: Path = CONFIG_FILE_PATH, \n",
    "        params_path: Path = PARAMS_FILE_PATH):\n",
    "        \n",
    "        self.config = read_yaml(str(config_path))\n",
    "        self.params = read_yaml(str(params_path))\n",
    "        \n",
    "        create_directories([self.config.artifacts_root]) # create directories if they do not exist\n",
    "\n",
    "    def get_training_config(self) -> TrainingConfig:\n",
    "        training = self.config.train_model\n",
    "        prepare_base_model = self.config.prepare_base_model\n",
    "        params = self.params.kmeans\n",
    "        training_data_path = self.config.data_transformation.transformed_data_path\n",
    "        \n",
    "        create_directories([training.root_dir])\n",
    "        training_config = TrainingConfig(\n",
    "            root_dir= Path(training.root_dir),\n",
    "            base_model_path= Path(prepare_base_model.base_model_path),\n",
    "            trained_model_path=Path(training.trained_model_path),\n",
    "            training_data_path=Path(training_data_path),\n",
    "            param_n_clusters=params.n_clusters\n",
    "        )\n",
    "        return training_config"
   ]
  },
  {
   "cell_type": "code",
   "execution_count": 8,
   "id": "edd6475e",
   "metadata": {},
   "outputs": [],
   "source": [
    "import joblib\n",
    "import pandas as pd\n",
    "import numpy as np\n",
    "import pickle"
   ]
  },
  {
   "cell_type": "code",
   "execution_count": 9,
   "id": "a3882de8",
   "metadata": {},
   "outputs": [],
   "source": [
    "class training:\n",
    "    def __init__(self, config: TrainingConfig):\n",
    "        self.config = config\n",
    "    def _load_object(self, file_path: Path):\n",
    "        \"\"\"\n",
    "        This function is used to load a pickled object from the specified path.\n",
    "        \"\"\"\n",
    "        try:\n",
    "            with open(file_path, 'rb') as file:\n",
    "                return pickle.load(file)\n",
    "        except Exception as e:\n",
    "            raise (e)\n",
    "    \n",
    "    def get_base_model(self):\n",
    "        # Load the base model\n",
    "        self.model = joblib.load(self.config.base_model_path)\n",
    "        \n",
    "    def train_model(self):\n",
    "        # Load the training data\n",
    "        training_data = self._load_object(self.config.training_data_path)\n",
    "        \n",
    "        # Extract features and labels\n",
    "        X = training_data\n",
    "        # Train the KMeans model\n",
    "        self.model.fit(X)\n",
    "        self._save_model(path=self.config.trained_model_path)\n",
    "        \n",
    "    def _save_model(self,path: Path) :\n",
    "        # Save the trained model to the specified path\n",
    "        joblib.dump(self.model,path )\n",
    "        \n"
   ]
  },
  {
   "cell_type": "code",
   "execution_count": 10,
   "id": "8e16a0d4",
   "metadata": {},
   "outputs": [
    {
     "name": "stdout",
     "output_type": "stream",
     "text": [
      "[2025-05-14 17:56:05,363: INFO: common: YAML file loaded successfully: C:\\Users\\tchok\\OneDrive\\Bureau\\My_github\\clustering-insured-population\\config\\config.yaml]\n",
      "[2025-05-14 17:56:05,383: INFO: common: YAML file loaded successfully: C:\\Users\\tchok\\OneDrive\\Bureau\\My_github\\clustering-insured-population\\params.yaml]\n",
      "[2025-05-14 17:56:05,389: INFO: common: created directory at: artifacts]\n",
      "[2025-05-14 17:56:05,392: INFO: common: created directory at: artifacts/train_model]\n"
     ]
    }
   ],
   "source": [
    "try :\n",
    "    config = ConfigurationManager()\n",
    "    training_config = config.get_training_config()\n",
    "    training_instance = training(config=training_config)\n",
    "    training_instance.get_base_model()\n",
    "    training_instance.train_model()\n",
    "except Exception as e:\n",
    "    raise e"
   ]
  }
 ],
 "metadata": {
  "kernelspec": {
   "display_name": "Python 3",
   "language": "python",
   "name": "python3"
  },
  "language_info": {
   "codemirror_mode": {
    "name": "ipython",
    "version": 3
   },
   "file_extension": ".py",
   "mimetype": "text/x-python",
   "name": "python",
   "nbconvert_exporter": "python",
   "pygments_lexer": "ipython3",
   "version": "3.10.16"
  }
 },
 "nbformat": 4,
 "nbformat_minor": 5
}
