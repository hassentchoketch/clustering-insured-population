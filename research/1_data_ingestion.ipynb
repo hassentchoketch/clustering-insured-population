{
 "cells": [
  {
   "cell_type": "code",
   "execution_count": 1,
   "id": "0c818fee",
   "metadata": {},
   "outputs": [],
   "source": [
    "import pandas as pd\n",
    "import numpy as np\n",
    "import os"
   ]
  },
  {
   "cell_type": "code",
   "execution_count": 2,
   "id": "98f88954",
   "metadata": {},
   "outputs": [
    {
     "data": {
      "text/plain": [
       "'c:\\\\Users\\\\tchok\\\\OneDrive\\\\Bureau\\\\My_github\\\\clustering-insured-population\\\\research'"
      ]
     },
     "execution_count": 2,
     "metadata": {},
     "output_type": "execute_result"
    }
   ],
   "source": [
    "%pwd"
   ]
  },
  {
   "cell_type": "code",
   "execution_count": 3,
   "id": "c8d5d092",
   "metadata": {},
   "outputs": [],
   "source": [
    "os.chdir('../')"
   ]
  },
  {
   "cell_type": "code",
   "execution_count": 4,
   "id": "08bae8e8",
   "metadata": {},
   "outputs": [
    {
     "data": {
      "text/plain": [
       "'c:\\\\Users\\\\tchok\\\\OneDrive\\\\Bureau\\\\My_github\\\\clustering-insured-population'"
      ]
     },
     "execution_count": 4,
     "metadata": {},
     "output_type": "execute_result"
    }
   ],
   "source": [
    "%pwd"
   ]
  },
  {
   "cell_type": "code",
   "execution_count": 5,
   "id": "89d52cac",
   "metadata": {},
   "outputs": [],
   "source": [
    "from dataclasses import dataclass\n",
    "from pathlib import Path\n",
    "\n",
    "\n",
    "@dataclass(frozen=True)\n",
    "class DataIngestionConfig:\n",
    "    root_dir: Path\n",
    "    sas_data_path: Path\n",
    "    csv_data_path: Path"
   ]
  },
  {
   "cell_type": "code",
   "execution_count": null,
   "id": "071a3604",
   "metadata": {},
   "outputs": [],
   "source": [
    "from insuredSegmenter.constants import *\n",
    "from insuredSegmenter.utils.common import create_directories, read_yaml\n",
    "\n",
    "class ConfigurationManager:\n",
    "    def __init__(\n",
    "        self,\n",
    "        config_filepath = CONFIG_FILE_PATH,\n",
    "        params_filepath = PARAMS_FILE_PATH):\n",
    "\n",
    "        self.config = read_yaml(str(config_filepath))\n",
    "        # self.params = read_yaml(params_filepath)\n",
    "\n",
    "        create_directories([self.config.artifacts_root])\n",
    "   \n",
    "\n",
    "    \n",
    "    def get_data_ingestion_config(self) -> DataIngestionConfig:\n",
    "        config = self.config.data_ingestion\n",
    "        print(config.root_dir)\n",
    "        print(config.sas)\n",
    "        print(config.csv)\n",
    "        create_directories([config.root_dir])\n",
    "\n",
    "        data_ingestion_config = DataIngestionConfig(\n",
    "            root_dir=config.root_dir,\n",
    "            sas_data_path=config.sas,\n",
    "            csv_data_path=config.csv\n",
    "        )\n",
    "\n",
    "        return data_ingestion_config\n",
    "   "
   ]
  },
  {
   "cell_type": "code",
   "execution_count": null,
   "id": "f02dd1cb",
   "metadata": {},
   "outputs": [],
   "source": [
    "from insuredSegmenter import logger\n",
    "\n",
    "class DataIngestion:\n",
    "    \"\"\"Data Ingestion\"\"\"\n",
    "    def __init__(self, config: DataIngestionConfig):\n",
    "        self.config = config # set config attribute to the class instance\n",
    "\n",
    "    def initiate_data_ingestion(self):\n",
    "        \"\"\" This function is responsible for data ingestion.\n",
    "        It reads the sas data from the source  and  saves them as csv in spesified directory.\"\"\"\n",
    "        logger.info(f\"Reading data from {self.config.sas_data_path} to {self.config.csv_data_path}\")\n",
    "        try: \n",
    "            df = pd.read_sas(self.config.sas_data_path) # read the data from the source path\n",
    "            logger.info(f\"Data read from {self.config.sas_data_path} successfully\")\n",
    "            \n",
    "            df.to_csv(os.path.join(self.config.csv_data_path), index=False) # save the data to the root directory\n",
    "            logger.info(f\"Data saved to {self.config.root_dir} successfully\")\n",
    "        except Exception as e:\n",
    "            logger.error(f\"Error occurred while reading data from {self.config.source_path}: {e}\")\n",
    "            raise e\n",
    "\n",
    "    \n",
    "        \n",
    "    "
   ]
  },
  {
   "cell_type": "code",
   "execution_count": 8,
   "id": "feddf5c1",
   "metadata": {},
   "outputs": [
    {
     "name": "stdout",
     "output_type": "stream",
     "text": [
      "[2025-05-10 17:47:34,325: INFO: common: YAML file loaded successfully: C:\\Users\\tchok\\OneDrive\\Bureau\\My_github\\clustering-insured-population\\config\\config.yaml]\n",
      "artifacts\n",
      "[2025-05-10 17:47:34,330: INFO: common: created directory at: artifacts]\n",
      "artifacts/data_ingestion\n",
      "research/a2z_insurance.sas7bdat\n",
      "artifacts/data_ingestion/data.csv\n",
      "[2025-05-10 17:47:34,335: INFO: common: created directory at: artifacts/data_ingestion]\n",
      "[2025-05-10 17:47:34,337: INFO: 483327645: Reading data from research/a2z_insurance.sas7bdat to artifacts/data_ingestion/data.csv]\n"
     ]
    },
    {
     "name": "stdout",
     "output_type": "stream",
     "text": [
      "[2025-05-10 17:47:35,300: INFO: 483327645: Data read from research/a2z_insurance.sas7bdat successfully]\n",
      "[2025-05-10 17:47:35,918: INFO: 483327645: Data saved to artifacts/data_ingestion successfully]\n"
     ]
    }
   ],
   "source": [
    "\n",
    "try:\n",
    "    config = ConfigurationManager()\n",
    "    data_ingestion_config = config.get_data_ingestion_config()\n",
    "    data_ingestion = DataIngestion(config=data_ingestion_config)\n",
    "    data_ingestion.initiate_data_ingestion()\n",
    "    \n",
    "except Exception as e:\n",
    "    raise e"
   ]
  }
 ],
 "metadata": {
  "kernelspec": {
   "display_name": "Python 3",
   "language": "python",
   "name": "python3"
  },
  "language_info": {
   "codemirror_mode": {
    "name": "ipython",
    "version": 3
   },
   "file_extension": ".py",
   "mimetype": "text/x-python",
   "name": "python",
   "nbconvert_exporter": "python",
   "pygments_lexer": "ipython3",
   "version": "3.10.16"
  }
 },
 "nbformat": 4,
 "nbformat_minor": 5
}
